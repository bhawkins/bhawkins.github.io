{
 "metadata": {
  "name": "JPRP Coordinates"
 },
 "nbformat": 3,
 "nbformat_minor": 0,
 "worksheets": [
  {
   "cells": [
    {
     "cell_type": "markdown",
     "metadata": {},
     "source": [
      "# Radar Coordinate Systems"
     ]
    },
    {
     "cell_type": "code",
     "collapsed": false,
     "input": [
      "import numpy as np\n",
      "import scipy.optimize as opt\n",
      "import matplotlib.pyplot as plt\n",
      "from numpy import sin, cos, tan, sqrt"
     ],
     "language": "python",
     "metadata": {},
     "outputs": [],
     "prompt_number": 1
    },
    {
     "cell_type": "markdown",
     "metadata": {},
     "source": [
      "## Parameters\n",
      "The yaw, pitch, and electronic steering angle define the coordinate system.  A target location is described by the range and azimuth of the platform at the imaging time."
     ]
    },
    {
     "cell_type": "code",
     "collapsed": false,
     "input": [
      "yaw = np.radians (10.0)\n",
      "pitch = np.radians (1.5)\n",
      "esa = np.radians (-8.0)\n",
      "r = 15e3\n",
      "s = 1e3\n",
      "h = 12e3  # platform height minus target height"
     ],
     "language": "python",
     "metadata": {},
     "outputs": [],
     "prompt_number": 2
    },
    {
     "cell_type": "markdown",
     "metadata": {},
     "source": [
      "## Constraints\n",
      "The imaging time is defined as the time when the peak of the azimuth beam pattern is reached at the target.  This constraint requires the look vector to fall on a cone generated about the antenna axis and is expressed by the equation $\\hat{n} \\cdot \\hat{l} = \\sin \\alpha$.  The target must also lie both on the range sphere and the ground surface, giving two more constraints.  "
     ]
    },
    {
     "cell_type": "markdown",
     "metadata": {},
     "source": [
      "## Solution\n",
      "### Numerical\n",
      "We could parameterize the problem various ways, but the set $(r_0, s_0, \\theta_{sq})$ representing the range and azimuth of closest approach (zero doppler) and the squint angle is an intuitive choice.  With this choice, the remaining two constraints can be expressed as $r_0^2 + (s-s_0)^2 = r^2$ and $r_0 = r \\cos \\theta_{sq}$.  Unfortunately these equations are not simple to solve analytically, but we can use a numerical solver."
     ]
    },
    {
     "cell_type": "code",
     "collapsed": false,
     "input": [
      "def f(x):\n",
      "    r0, s0, squint = x\n",
      "    c = sqrt (r0**2 - h**2)\n",
      "    # Compute look vector for Cartesian (s,c,h) coordinates.\n",
      "    # Assume left-looking radar.\n",
      "    look = np.array ([sin(squint), c/r, -h/r])\n",
      "    n = np.array ([cos(pitch)*cos(yaw), -cos(pitch)*sin(yaw), sin(pitch)])\n",
      "    y = np.array ([\n",
      "        np.dot (look, n) - sin(esa),\n",
      "        r0**2 + (s-s0)**2 - r**2,\n",
      "        r0/r - cos(squint)\n",
      "    ])\n",
      "    # Scale range residual so it doesn't dominate angle terms.\n",
      "    y[1] *= 1.0 / r**2\n",
      "    return y\n",
      "\n",
      "root = opt.root (f, [r, 0, 0])\n",
      "print root"
     ],
     "language": "python",
     "metadata": {},
     "outputs": [
      {
       "output_type": "stream",
       "stream": "stdout",
       "text": [
        "  status: 1\n",
        " success: True\n",
        "     qtf: array([  7.93310018e-10,  -4.81901573e-10,   1.77643660e-14])\n",
        "    nfev: 12\n",
        "       r: array([  1.33810072e-04,  -1.63346597e-06,  -2.19375374e-01,\n",
        "         9.92126867e-07,  -1.93772004e-01,  -9.43950799e-01])\n",
        "     fun: array([ -2.77555756e-17,   2.17093362e-13,  -3.33066907e-16])\n",
        "       x: array([  1.49984597e+04,   7.85040989e+02,  -1.43310913e-02])\n",
        " message: 'The solution converged.'\n",
        "    fjac: array([[ -1.44126019e-01,   8.54699391e-01,   4.98714991e-01],\n",
        "       [ -2.37293187e-01,  -5.19123253e-01,   8.21098649e-01],\n",
        "       [ -9.60687064e-01,  -1.02613954e-08,  -2.77633510e-01]])\n"
       ]
      }
     ],
     "prompt_number": 3
    },
    {
     "cell_type": "markdown",
     "metadata": {},
     "source": [
      "### Analytic\n",
      "While in general a cone-sphere intersection is a complicated quartic equation, here we have a special case where the cone and sphere share a center point, and the intersection solution is a circle.  The problem then becomes determining the intersection of this circle with the ground surface (plane or sphere).  A coordinate transformation is all that's needed to make the analysis tractable."
     ]
    },
    {
     "cell_type": "code",
     "collapsed": false,
     "input": [
      "# Define a Cartesian system along the cone axis. n is the image plane normal.\n",
      "n = np.array ([cos(pitch)*cos(yaw), -cos(pitch)*sin(yaw), sin(pitch)])\n",
      "# Choose a horizontal axis (left wing).\n",
      "hhat = np.array ([0, 0, 1.0])\n",
      "w = -np.cross (n, hhat)\n",
      "w *= 1.0 / np.linalg.norm (w)\n",
      "# A height-like axis completes the system.\n",
      "z = np.cross (n, w)"
     ],
     "language": "python",
     "metadata": {},
     "outputs": [],
     "prompt_number": 4
    },
    {
     "cell_type": "markdown",
     "metadata": {},
     "source": [
      "Written out explicitly in terms of attitude angles, the rotation matrix for this coordinate system is\n",
      "\n",
      "$$\n",
      "R^{nwz}_{sch} = \\begin{bmatrix} \\hat{n} & \\hat{w} & \\hat{z} \\end{bmatrix}\n",
      "= \\begin{bmatrix}\n",
      "\\cos \\theta_p \\cos \\theta_y  & \\sin \\theta_y & -\\sin \\theta_p \\cos \\theta_y \\\\\\\\\n",
      "-\\cos \\theta_p \\sin \\theta_y & \\cos \\theta_y & \\sin \\theta_p \\sin \\theta_y \\\\\\\\\n",
      "\\sin \\theta_p                & 0             & \\cos \\theta_p\n",
      "\\end{bmatrix}\n",
      "$$\n",
      "\n",
      "In these coordinates, it's easy to parameterize a cone\n",
      "\n",
      "$$ \\vec{r} = t \\hat{n} + R \\sin \\beta \\hat{w} - R \\cos \\beta \\hat{z} $$\n",
      "\n",
      "Enforcing the range and electronic steering angle constraints yields simple expressions for $t$ and $R$\n",
      "\n",
      "$$ t = r \\sin \\alpha \\\\\\\\ R = r \\cos \\alpha $$\n",
      "\n",
      "We then find the $\\beta$ that satisfies the ground-plane constraint, which for a flat surface is $\\vec{r} \\cdot \\hat{h} = -h$.  The solution is\n",
      "\n",
      "$$ \\cos \\beta = \\frac{\\frac{h}{r} + \\sin \\alpha \\sin \\theta_p}{\\cos \\alpha \\cos \\theta_p} $$"
     ]
    },
    {
     "cell_type": "code",
     "collapsed": false,
     "input": [
      "# t is the distance along the cone axis.\n",
      "t = r * sin(esa)\n",
      "# R is the radius of the cone.\n",
      "R = r * cos(esa)\n",
      "# beta is the angle in the w-h plane, solved from the ground plane constraint.\n",
      "coslook = h/r\n",
      "beta = np.arccos ((coslook + sin(esa) * sin(pitch)) / (cos(esa) * cos(pitch)))"
     ],
     "language": "python",
     "metadata": {},
     "outputs": [],
     "prompt_number": 5
    },
    {
     "cell_type": "markdown",
     "metadata": {},
     "source": [
      "Having solved for the cone parameters $(t,R,\\beta)$, it's simple to convert to our previous parameter set $(r_0,s_0,\\theta_{sq})$ for comparison.\n",
      "\n",
      "$$ \\begin{eqnarray}\n",
      "\\sin \\theta_{sq} &=& \\hat{l} \\cdot \\hat{s} \\\\\\\\\n",
      "                 &=& \\frac{1}{r} (t n_s + R \\sin \\beta w_s - R \\cos \\beta z_s) \\\\\\\\\n",
      "                 &=& \\sin\\alpha \\cos\\theta_p \\cos\\theta_y + \\cos\\alpha \\sin\\theta_y \\sin\\beta \n",
      "                  +  \\cos\\alpha \\sin\\theta_p \\cos\\theta_y \\cos\\beta\n",
      "\\end{eqnarray}$$\n",
      "\n",
      "$$\n",
      "r_0 = r \\cos \\theta_{sq} \\\\\\\\\n",
      "s_0 = s + r \\sin \\theta_{sq}\n",
      "$$"
     ]
    },
    {
     "cell_type": "code",
     "collapsed": false,
     "input": [
      "# Construct the look vector and solve for the zero-doppler coordinates.\n",
      "rv = t*n + R*sin(beta)*w - R*cos(beta)*z\n",
      "look = rv / np.linalg.norm (rv)\n",
      "sq = np.arcsin (look[0])\n",
      "r0 = r * cos(sq)\n",
      "s0 = s + r * sin(sq)\n",
      "x = [r0, s0, sq]\n",
      "\n",
      "# Check against the numerical solution.\n",
      "print \"opt.root error\", root.x - x\n",
      "print \"residuals     \", f(x)\n",
      "print \"solution      \", x"
     ],
     "language": "python",
     "metadata": {},
     "outputs": [
      {
       "output_type": "stream",
       "stream": "stdout",
       "text": [
        "opt.root error [ -5.45696821e-12  -1.13949227e-07  -9.88792381e-17]\n",
        "residuals      [ -2.77555756e-17   1.32454766e-16   0.00000000e+00]\n",
        "solution       [14998.459675031403, 785.04098889107513, -0.014331091289236405]\n"
       ]
      }
     ],
     "prompt_number": 6
    },
    {
     "cell_type": "markdown",
     "metadata": {},
     "source": [
      "## Range Dependence\n",
      "An important consequence of this model is that the squint angle (or, equivalently, the doppler) can vary strongly with range, even with azimuth steering."
     ]
    },
    {
     "cell_type": "code",
     "collapsed": false,
     "input": [
      "ranges = np.linspace (13e3, 22e3, 201)\n",
      "coslook = h / ranges\n",
      "cosbeta = (coslook + sin(esa) * sin(pitch)) / (cos(esa) * cos(pitch))\n",
      "sinbeta = sqrt (1.0 - cosbeta**2)  # positive for left-looking radar\n",
      "squints = np.arcsin (sin(esa)*cos(pitch)*cos(yaw) \n",
      "                     + cos(esa)*sin(yaw)*sinbeta \n",
      "                     + cos(esa)*sin(pitch)*cos(yaw)*cosbeta)\n",
      "\n",
      "plt.plot (ranges/1000, np.degrees(squints))\n",
      "plt.xlabel ('Range [km]')\n",
      "plt.ylabel ('Squint [degrees]');"
     ],
     "language": "python",
     "metadata": {},
     "outputs": [
      {
       "output_type": "display_data",
       "png": "[encoded data removed]"
      }
     ],
     "prompt_number": 7
    },
    {
     "cell_type": "code",
     "collapsed": false,
     "input": [],
     "language": "python",
     "metadata": {},
     "outputs": [],
     "prompt_number": 7
    }
   ],
   "metadata": {}
  }
 ]
}